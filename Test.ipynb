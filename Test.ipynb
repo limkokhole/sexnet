{
 "cells": [
  {
   "cell_type": "code",
   "execution_count": 1,
   "metadata": {
    "collapsed": false
   },
   "outputs": [],
   "source": [
    "import torch as t\n",
    "from torch import nn\n",
    "from torch.autograd import Variable\n",
    "from torch.optim import Adam\n",
    "from torchvision import transforms\n",
    "from torchvision.utils import save_image\n",
    "from torchvision.datasets import CIFAR10\n",
    "import numpy as np\n",
    "from torch  import optim\n",
    "import torchvision.utils as vutil\n",
    "from tensorboard_logger import Logger\n",
    "import torchvision as tv\n",
    "from torchvision.datasets import ImageFolder\n",
    "from torch.utils.data.dataloader import default_collate\n",
    "from PIL import ImageFile\n",
    "ImageFile.LOAD_TRUNCATED_IMAGES = True\n",
    "\n",
    "from tensorboard_logger import configure, log_value, Logger\n",
    "test_logger = Logger('tensorboard_log/runs/test_1')\n",
    "# configure(\"tensorboard_log/runs/test\")"
   ]
  },
  {
   "cell_type": "code",
   "execution_count": 2,
   "metadata": {
    "collapsed": true
   },
   "outputs": [],
   "source": [
    "class Config:\n",
    "    lr=0.0002\n",
    "    nz=100# 噪声维度\n",
    "    image_size=64\n",
    "    image_size2=64\n",
    "    nc=3# 图片三通道\n",
    "    ngf=64 #生成图片\n",
    "    ndf=64 #判别图片\n",
    "    gpuids=2\n",
    "    beta1=0.5\n",
    "    batch_size=1024\n",
    "    max_epoch=12# =1 when debug\n",
    "    workers=2\n",
    "    clamp_num=0.01# WGAN 截断大小\n",
    "    \n",
    "opt=Config()"
   ]
  },
  {
   "cell_type": "code",
   "execution_count": 3,
   "metadata": {
    "collapsed": false
   },
   "outputs": [],
   "source": [
    "def my_collate(batch):\n",
    "    batch = filter (lambda x:x is not None, batch)\n",
    "    return default_collate(batch)\n",
    "class MyImageFolder(ImageFolder):\n",
    "    __init__ = ImageFolder.__init__\n",
    "    def __getitem__(self, index):\n",
    "        try: \n",
    "            return super(MyImageFolder, self).__getitem__(index), self.imgs[index]\n",
    "        except Exception as e:\n",
    "            print e\n",
    "\n",
    "val_dataset = MyImageFolder('/home/x/data/pre/test_new/nouse',\n",
    "                transform=transforms.Compose(\\\n",
    "                                             \n",
    "                                             [transforms.Scale(opt.image_size),\n",
    "                                              transforms.RandomCrop(opt.image_size) ,\n",
    "#                                               transforms.RandomSizedCrop()\n",
    "                                              transforms.ToTensor(),\n",
    "                                              transforms.Normalize([0.5]*3,[0.5]*3)\n",
    "                                             ]))\n",
    "\n",
    "val_dataloader=t.utils.data.DataLoader(val_dataset,64,True,num_workers=opt.workers, collate_fn=my_collate)"
   ]
  },
  {
   "cell_type": "code",
   "execution_count": 4,
   "metadata": {
    "collapsed": true
   },
   "outputs": [],
   "source": [
    "class ModelD(nn.Module):\n",
    "    def __init__(self,ngpu):\n",
    "        super(ModelD,self).__init__()\n",
    "        self.ngpu=ngpu\n",
    "        self.model=nn.Sequential()\n",
    "        self.model.add_module('conv1',nn.Conv2d(opt.nc,opt.ndf,4,2,1,bias=False))\n",
    "        self.model.add_module('relu1',nn.LeakyReLU(0.2,inplace=True))\n",
    "        \n",
    "        self.model.add_module('conv2',nn.Conv2d(opt.ndf,opt.ndf*2,4,2,1,bias=False))\n",
    "        self.model.add_module('bnorm2',nn.BatchNorm2d(opt.ndf*2))\n",
    "        self.model.add_module('relu2',nn.LeakyReLU(0.2,inplace=True))\n",
    "        \n",
    "        self.model.add_module('conv3',nn.Conv2d(opt.ndf*2,opt.ndf*4,4,2,1,bias=False))\n",
    "        self.model.add_module('bnorm3',nn.BatchNorm2d(opt.ndf*4))\n",
    "        self.model.add_module('relu3',nn.LeakyReLU(0.2,inplace=True))\n",
    "        \n",
    "        self.model.add_module('conv4',nn.Conv2d(opt.ndf*4,opt.ndf*8,4,2,1,bias=False))\n",
    "        self.model.add_module('bnorm4',nn.BatchNorm2d(opt.ndf*8))\n",
    "        self.model.add_module('relu4',nn.LeakyReLU(0.2,inplace=True))\n",
    "        \n",
    "        self.model.add_module('conv5',nn.Conv2d(opt.ndf*8,1,4,1,0,bias=False))\n",
    "#         self.model.add_module('sigmoid',nn.Sigmoid())\n",
    "    def forward(self,input):\n",
    "        gpuids=None\n",
    "        if self.ngpu:\n",
    "            gpuids=range(self.ngpu)\n",
    "        return nn.parallel.data_parallel(self.model,input, device_ids=gpuids)\n",
    "netd=ModelD(opt.gpuids)"
   ]
  },
  {
   "cell_type": "code",
   "execution_count": 5,
   "metadata": {
    "collapsed": true
   },
   "outputs": [],
   "source": [
    "class FinetuneModel(nn.Module):\n",
    "    def __init__(self, pretrained_model, ngpu=opt.gpuids):\n",
    "        self.ngpu = ngpu\n",
    "        super(FinetuneModel,self).__init__()\n",
    "        self.features = pretrained_model\n",
    "        self.classifier = nn.Sequential(\n",
    "            nn.Dropout(),\n",
    "            nn.Linear(512 * 4 * 4, 2048),\n",
    "            nn.ReLU(True),\n",
    "            nn.Dropout(),\n",
    "            nn.Linear(2048, 2048),\n",
    "            nn.ReLU(True),\n",
    "            nn.Linear(2048, 2))      \n",
    "        \n",
    "    def forward(self, x):\n",
    "        gpuids = None\n",
    "        if self.ngpu:\n",
    "            gpuids = range(self.ngpu)\n",
    "        features =  self.features(x).view(-1,512*4*4)#, x, device_ids=gpuids,ou)\n",
    "        return self.classifier(features)"
   ]
  },
  {
   "cell_type": "code",
   "execution_count": 6,
   "metadata": {
    "collapsed": true
   },
   "outputs": [],
   "source": [
    "if hasattr(netd.model,'conv5'):del netd.model.conv5\n",
    "model = FinetuneModel(netd)"
   ]
  },
  {
   "cell_type": "code",
   "execution_count": 7,
   "metadata": {
    "collapsed": false
   },
   "outputs": [
    {
     "data": {
      "text/plain": [
       "FinetuneModel (\n",
       "  (features): ModelD (\n",
       "    (model): Sequential (\n",
       "      (conv1): Conv2d(3, 64, kernel_size=(4, 4), stride=(2, 2), padding=(1, 1), bias=False)\n",
       "      (relu1): LeakyReLU (0.2, inplace)\n",
       "      (conv2): Conv2d(64, 128, kernel_size=(4, 4), stride=(2, 2), padding=(1, 1), bias=False)\n",
       "      (bnorm2): BatchNorm2d(128, eps=1e-05, momentum=0.1, affine=True)\n",
       "      (relu2): LeakyReLU (0.2, inplace)\n",
       "      (conv3): Conv2d(128, 256, kernel_size=(4, 4), stride=(2, 2), padding=(1, 1), bias=False)\n",
       "      (bnorm3): BatchNorm2d(256, eps=1e-05, momentum=0.1, affine=True)\n",
       "      (relu3): LeakyReLU (0.2, inplace)\n",
       "      (conv4): Conv2d(256, 512, kernel_size=(4, 4), stride=(2, 2), padding=(1, 1), bias=False)\n",
       "      (bnorm4): BatchNorm2d(512, eps=1e-05, momentum=0.1, affine=True)\n",
       "      (relu4): LeakyReLU (0.2, inplace)\n",
       "    )\n",
       "  )\n",
       "  (classifier): Sequential (\n",
       "    (0): Dropout (p = 0.5)\n",
       "    (1): Linear (8192 -> 2048)\n",
       "    (2): ReLU (inplace)\n",
       "    (3): Dropout (p = 0.5)\n",
       "    (4): Linear (2048 -> 2048)\n",
       "    (5): ReLU (inplace)\n",
       "    (6): Linear (2048 -> 2)\n",
       "  )\n",
       ")"
      ]
     },
     "execution_count": 7,
     "metadata": {},
     "output_type": "execute_result"
    }
   ],
   "source": [
    "model.load_state_dict(t.load('class_current_best_model_94.4813829787.nph'))\n",
    "model.cuda()"
   ]
  },
  {
   "cell_type": "code",
   "execution_count": 8,
   "metadata": {
    "collapsed": true
   },
   "outputs": [],
   "source": [
    "class AverageMeter(object):\n",
    "    \"\"\"Computes and stores the average and current value\"\"\"\n",
    "    def __init__(self):\n",
    "        self.reset()\n",
    "\n",
    "    def reset(self):\n",
    "        self.val = 0\n",
    "        self.avg = 0\n",
    "        self.sum = 0\n",
    "        self.count = 0\n",
    "\n",
    "    def update(self, val, n=1):\n",
    "        self.val = val\n",
    "        self.sum += val * n\n",
    "        self.count += n\n",
    "        self.avg = self.sum / self.count\n",
    "      \n",
    "        \n",
    "def accuracy(output, target, topk=(1,)):\n",
    "    \"\"\"\n",
    "    Computes the precision@k for the specified values of k\n",
    "    @param output: score\n",
    "    @param target: label\n",
    "    \n",
    "    \"\"\"\n",
    "    maxk = max(topk)\n",
    "    batch_size = target.size(0)\n",
    "\n",
    "    _, pred = output.topk(maxk, 1, True, True)\n",
    "    pred = pred.t()\n",
    "    correct = pred.eq(target.view(1, -1).expand_as(pred))\n",
    "\n",
    "    res = []\n",
    "    for k in topk:\n",
    "        correct_k = correct[:k].view(-1).float().sum(0)\n",
    "        res.append(correct_k.mul_(100.0 / batch_size))\n",
    "    return res\n",
    "\n",
    "def val(model): \n",
    "    model.eval()\n",
    "    acc_meter = AverageMeter()\n",
    "    loss_meter = AverageMeter()\n",
    "    for ii,data in enumerate(val_dataloader):\n",
    "        input,label=data \n",
    "        val_input = Variable(input, volatile = True).cuda()\n",
    "        val_label = Variable(label.type(t.LongTensor), volatile = True).cuda()\n",
    "        score = model(val_input)\n",
    "        acc = accuracy(score.cpu().data,label)[0][0]\n",
    "        val_loss = t.nn.functional.cross_entropy(score,val_label)\n",
    "        n = input.size()[0]\n",
    "        acc_meter.update(acc,n)\n",
    "        loss_meter.update(val_loss.data,n)\n",
    "        if acc_meter.count>3000:break\n",
    "    \n",
    "#     log_value('loss_val', val_loss)\n",
    "#     log_value('accuracy', acc)\n",
    "    model.train()\n",
    "    return acc_meter, loss_meter\n",
    "\n",
    "def get_wrong(scores,label,paths):\n",
    "    _, pred = scores.max(1)\n",
    "    results = (pred == label).type_as(pred)\n",
    "    wrong_imgs = [img for (img,result) in zip(paths, results) if result[0]<1 ]\n",
    "    return wrong_imgs\n",
    "    \n",
    "    \n",
    "def val_and_show(model): \n",
    "    model.eval()\n",
    "    acc_meter = AverageMeter()\n",
    "    loss_meter = AverageMeter()\n",
    "    wrong_pics=[]\n",
    "    for ii,data in enumerate(val_dataloader):\n",
    "        (input,label),(path,_) = data\n",
    "        \n",
    "        val_input = Variable(input, volatile = True).cuda()\n",
    "        val_label = Variable(label.type(t.LongTensor), volatile = True).cuda()\n",
    "        score = model(val_input)\n",
    "        acc = accuracy(score.cpu().data,label)[0][0]\n",
    "        wrong_imgs = get_wrong(score.cpu().data,label,path)\n",
    "        wrong_pics+=wrong_imgs\n",
    "        val_loss = t.nn.functional.cross_entropy(score,val_label)\n",
    "        n = input.size()[0]\n",
    "        acc_meter.update(acc,n)\n",
    "        loss_meter.update(val_loss.data,n)\n",
    "\n",
    "    \n",
    "#     log_value('loss_val', val_loss)\n",
    "#     log_value('accuracy', acc)\n",
    "    model.train()\n",
    "    return acc_meter, loss_meter,wrong_pics"
   ]
  },
  {
   "cell_type": "code",
   "execution_count": 9,
   "metadata": {
    "collapsed": false
   },
   "outputs": [
    {
     "name": "stderr",
     "output_type": "stream",
     "text": [
      "/usr/local/lib/python2.7/dist-packages/PIL/Image.py:874: UserWarning: Palette images with Transparency   expressed in bytes should be converted to RGBA images\n",
      "  'to RGBA images')\n",
      "/usr/local/lib/python2.7/dist-packages/PIL/Image.py:874: UserWarning: Palette images with Transparency   expressed in bytes should be converted to RGBA images\n",
      "  'to RGBA images')\n"
     ]
    }
   ],
   "source": [
    "a,b,c=val_and_show(model)"
   ]
  },
  {
   "cell_type": "code",
   "execution_count": 11,
   "metadata": {
    "collapsed": false
   },
   "outputs": [],
   "source": [
    "import json\n",
    "json.dump(c,open('new_wrong3','w'))"
   ]
  },
  {
   "cell_type": "code",
   "execution_count": 12,
   "metadata": {
    "collapsed": false
   },
   "outputs": [
    {
     "data": {
      "text/plain": [
       "'0/g100702.jpg'"
      ]
     },
     "execution_count": 12,
     "metadata": {},
     "output_type": "execute_result"
    }
   ],
   "source": [
    "c[0]"
   ]
  },
  {
   "cell_type": "code",
   "execution_count": 10,
   "metadata": {
    "collapsed": false
   },
   "outputs": [
    {
     "data": {
      "text/plain": [
       "93.00389894520698"
      ]
     },
     "execution_count": 10,
     "metadata": {},
     "output_type": "execute_result"
    }
   ],
   "source": [
    "a.avg"
   ]
  },
  {
   "cell_type": "code",
   "execution_count": null,
   "metadata": {
    "collapsed": true
   },
   "outputs": [],
   "source": []
  }
 ],
 "metadata": {
  "kernelspec": {
   "display_name": "Python 2",
   "language": "python",
   "name": "python2"
  },
  "language_info": {
   "codemirror_mode": {
    "name": "ipython",
    "version": 2
   },
   "file_extension": ".py",
   "mimetype": "text/x-python",
   "name": "python",
   "nbconvert_exporter": "python",
   "pygments_lexer": "ipython2",
   "version": "2.7.12"
  }
 },
 "nbformat": 4,
 "nbformat_minor": 1
}
